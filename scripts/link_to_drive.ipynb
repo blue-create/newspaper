{
 "cells": [
  {
   "cell_type": "markdown",
   "id": "922922ea",
   "metadata": {},
   "source": [
    "### Linking google drive to python projects"
   ]
  },
  {
   "cell_type": "code",
   "execution_count": null,
   "id": "d8ffc510",
   "metadata": {},
   "outputs": [],
   "source": [
    "%pwd\n",
    "%cd '/home/sukayna/Desktop'"
   ]
  },
  {
   "cell_type": "code",
   "execution_count": null,
   "id": "a0955520",
   "metadata": {},
   "outputs": [],
   "source": [
    "# important resource: \n",
    "# https://towardsdatascience.com/how-to-manage-files-in-google-drive-with-python-d26471d91ecd"
   ]
  },
  {
   "cell_type": "code",
   "execution_count": null,
   "id": "878f4906",
   "metadata": {
    "scrolled": true
   },
   "outputs": [],
   "source": [
    "pip install pydrive"
   ]
  },
  {
   "cell_type": "code",
   "execution_count": null,
   "id": "4e8195ad",
   "metadata": {},
   "outputs": [],
   "source": [
    "# link google drive with github\n",
    "# https://pypi.org/project/PyDrive/\n",
    "\n",
    "from pydrive.auth import GoogleAuth\n",
    "from pydrive.drive import GoogleDrive"
   ]
  },
  {
   "cell_type": "code",
   "execution_count": null,
   "id": "d2f0e61c",
   "metadata": {},
   "outputs": [],
   "source": [
    "# see here to set up OAuth credentials for Google API:  \n",
    "# https://medium.com/@chingjunetao/simple-way-to-access-to-google-service-api-a22f4251bb52\n",
    "\n",
    "# once you've saved the json file\n",
    "# rename the downloaded file to client_secrets.json\n",
    "# move json file to the same folder/directory which contains this script\n",
    "\n",
    "gauth = GoogleAuth()"
   ]
  },
  {
   "cell_type": "code",
   "execution_count": null,
   "id": "fcfbdb15",
   "metadata": {},
   "outputs": [],
   "source": [
    "gauth.LocalWebserverAuth()"
   ]
  },
  {
   "cell_type": "code",
   "execution_count": null,
   "id": "0544e549",
   "metadata": {},
   "outputs": [],
   "source": [
    "drive = GoogleDrive(gauth)"
   ]
  },
  {
   "cell_type": "code",
   "execution_count": null,
   "id": "5bcf46f1",
   "metadata": {},
   "outputs": [],
   "source": [
    "# then access files from your drive etc\n",
    "# see: https://pypi.org/project/PyDrive/\n",
    "\n",
    "# Created file hello.txt\n",
    "myfile = drive.CreateFile()\n",
    "myfile.SetContentFile('hello.txt')\n",
    "myfile.Upload()\n",
    "\n",
    "# Save Drive file as a local file\n",
    "myfile.GetContentFile('mypicture.jpg')\n",
    "\n",
    "# or download Google Docs files in an export format provided.\n",
    "# downloading a docs document as an html file:\n",
    "docsfile.GetContentFile('test.text', mimetype='text')"
   ]
  },
  {
   "cell_type": "markdown",
   "id": "8b8401bd",
   "metadata": {},
   "source": [
    "### Mounting google drive in colab notebooks"
   ]
  },
  {
   "cell_type": "code",
   "execution_count": null,
   "id": "d9aba8c6",
   "metadata": {},
   "outputs": [],
   "source": [
    "# mount google drive to colab notebook\n",
    "\n",
    "from google.colab import drive\n",
    "drive.mount('/content/drive/')\n",
    "\n",
    "# import library, authenticate, and create interface so can access files and google sheets\n",
    "\n",
    "from google.colab import auth\n",
    "auth.authenticate_user()\n",
    "\n",
    "import gspread\n",
    "from oauth2client.client import GoogleCredentials\n"
   ]
  },
  {
   "cell_type": "code",
   "execution_count": null,
   "id": "02f3dca5",
   "metadata": {},
   "outputs": [],
   "source": [
    "# read corpus from file\n",
    "\n",
    "df = pd.read_csv('/content/drive/My Drive/nlp_datasets/filename.csv', header = 0)\n",
    "#df.dropna(axis = 0, inplace=True)\n",
    "corpus = df['article'].tolist()\n",
    "\n",
    "# save corpus/data to csv file in drive\n",
    "corpus.to_csv('/content/drive/My Drive/new_filename.csv', index=False)\n"
   ]
  },
  {
   "cell_type": "code",
   "execution_count": null,
   "id": "b5a741c4",
   "metadata": {},
   "outputs": [],
   "source": [
    "#you can also import data into google sheets for later\n",
    "\n",
    "from gspread_dataframe import set_with_dataframe\n",
    "\n",
    "gc = gspread.authorize(GoogleCredentials.get_application_default())\n",
    "sh = gc.create('my_keyword_results')\n",
    "\n",
    "worksheet = sh.add_worksheet(title=\"keyword_filtering_2023-02-20\", rows=\"100\", cols=\"20\")\n",
    "set_with_dataframe(worksheet, key_1)\n",
    "\n",
    "#to add to the same google workbook\n",
    "sh = gc.open('my_keyword_results')\n",
    "#then add new worksheet\n",
    "worksheet = sh.add_worksheet(title=\"keyword_filtering_2023-02-21\", rows=\"100\", cols=\"20\")\n",
    "set_with_dataframe(worksheet, key_2)"
   ]
  }
 ],
 "metadata": {
  "kernelspec": {
   "display_name": "Python 3 (ipykernel)",
   "language": "python",
   "name": "python3"
  },
  "language_info": {
   "codemirror_mode": {
    "name": "ipython",
    "version": 3
   },
   "file_extension": ".py",
   "mimetype": "text/x-python",
   "name": "python",
   "nbconvert_exporter": "python",
   "pygments_lexer": "ipython3",
   "version": "3.10.6"
  }
 },
 "nbformat": 4,
 "nbformat_minor": 5
}
