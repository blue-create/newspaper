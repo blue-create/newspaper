{
 "cells": [
  {
   "cell_type": "code",
   "execution_count": 9,
   "id": "fb45d7f5",
   "metadata": {},
   "outputs": [
    {
     "data": {
      "text/html": [
       "<style>.container { width:90% !important; }</style>"
      ],
      "text/plain": [
       "<IPython.core.display.HTML object>"
      ]
     },
     "metadata": {},
     "output_type": "display_data"
    }
   ],
   "source": [
    "from IPython.display import display, HTML\n",
    "display(HTML(\"<style>.container { width:90% !important; }</style>\"))"
   ]
  },
  {
   "cell_type": "code",
   "execution_count": 10,
   "id": "9f55b693",
   "metadata": {},
   "outputs": [],
   "source": [
    "# check working directory\n",
    "import os\n",
    "os.getcwd() # if directory is subfolder, change to home\n",
    "os.chdir('/home/sukayna/Documents/github/newspaper')"
   ]
  },
  {
   "cell_type": "code",
   "execution_count": 11,
   "id": "4ceb3157",
   "metadata": {},
   "outputs": [],
   "source": [
    "# import usual packages\n",
    "import json\n",
    "import nltk\n",
    "from nltk.collocations import *\n",
    "import datetime as dt\n",
    "import locale\n",
    "import spacy\n",
    "from tqdm import tqdm\n",
    "import pprint"
   ]
  },
  {
   "cell_type": "code",
   "execution_count": 12,
   "id": "75fc3f8c",
   "metadata": {},
   "outputs": [],
   "source": [
    "# always use json to load the corpus\n",
    "with open('data/factiva_data.json', 'r') as f:\n",
    "    factiva_corpus = json.load(f)"
   ]
  },
  {
   "cell_type": "markdown",
   "id": "d74bbb88",
   "metadata": {},
   "source": [
    "#### Concordance analysis - keywords in context analysis "
   ]
  },
  {
   "cell_type": "code",
   "execution_count": 13,
   "id": "1ae6a7a2",
   "metadata": {},
   "outputs": [
    {
     "name": "stderr",
     "output_type": "stream",
     "text": [
      "[nltk_data] Downloading package punkt to /home/sukayna/nltk_data...\n",
      "[nltk_data]   Package punkt is already up-to-date!\n"
     ]
    },
    {
     "data": {
      "text/plain": [
       "True"
      ]
     },
     "execution_count": 13,
     "metadata": {},
     "output_type": "execute_result"
    }
   ],
   "source": [
    "# concordance analysis\n",
    "from nltk.text import Text\n",
    "from nltk.tokenize import word_tokenize\n",
    "nltk.download('punkt')"
   ]
  },
  {
   "cell_type": "code",
   "execution_count": 14,
   "id": "db561962",
   "metadata": {},
   "outputs": [
    {
     "name": "stdout",
     "output_type": "stream",
     "text": [
      "Displaying 2 of 2 matches:\n",
      " einen weiteren schritt gegangen um frauen und mädchen künftig besser vor gewa\n",
      "ewalt zu schützen der ausschuss für frauen , gleichstellung und sicherheit hat\n"
     ]
    }
   ],
   "source": [
    "# some quick tests\n",
    "corpus = 'wiesbaden ist einen weiteren schritt gegangen um frauen und mädchen künftig besser vor gewalt zu schützen der ausschuss für frauen, gleichstellung und sicherheit hat einem antrag zugestimmt der vorsieht dass die stadt personal für die arbeit einer koordinierungsstelle finanzieren soll.'\n",
    "tokens = word_tokenize(corpus)\n",
    "mytext = Text(tokens)\n",
    "mytext.concordance(\"frauen\")"
   ]
  },
  {
   "cell_type": "code",
   "execution_count": 15,
   "id": "d25522d5",
   "metadata": {},
   "outputs": [],
   "source": [
    "# concordance for first document\n",
    "mycorpus = []\n",
    "for doc in factiva_corpus:\n",
    "    mycorpus.append(word_tokenize(doc['body']))"
   ]
  },
  {
   "cell_type": "code",
   "execution_count": 16,
   "id": "04af32c3",
   "metadata": {},
   "outputs": [
    {
     "name": "stdout",
     "output_type": "stream",
     "text": [
      "Displaying 3 of 3 matches:\n",
      "[ 'es gibt physische gewalt , es gibt psychische gewalt - und e\n",
      "ysische gewalt , es gibt psychische gewalt - und es gibt digitale gewalt . wie\n",
      "ische gewalt - und es gibt digitale gewalt . wie diese wirkt , wenn sie vom st\n"
     ]
    }
   ],
   "source": [
    "mytext = Text(mycorpus[0])\n",
    "mytext.concordance(\"gewalt\")"
   ]
  },
  {
   "cell_type": "markdown",
   "id": "368a79b3",
   "metadata": {},
   "source": [
    "Interesting unigrams:\n",
    "- “Gewaltopfer” vs “Gewalttäter” => german words for victim and perpetrator of violence\n",
    "- “Beziehungsgewalt” => not domestic but relationship violence\n",
    "- “Partnerschaft” vs “Beziehung” => check for these synonyms\n",
    "- “mutmaßlich[xx]” => police reporting"
   ]
  }
 ],
 "metadata": {
  "kernelspec": {
   "display_name": "frontline",
   "language": "python",
   "name": "frontline"
  },
  "language_info": {
   "codemirror_mode": {
    "name": "ipython",
    "version": 3
   },
   "file_extension": ".py",
   "mimetype": "text/x-python",
   "name": "python",
   "nbconvert_exporter": "python",
   "pygments_lexer": "ipython3",
   "version": "3.10.4"
  }
 },
 "nbformat": 4,
 "nbformat_minor": 5
}
