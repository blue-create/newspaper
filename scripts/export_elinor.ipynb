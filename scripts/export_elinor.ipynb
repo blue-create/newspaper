{
 "cells": [
  {
   "cell_type": "code",
   "execution_count": 1,
   "metadata": {},
   "outputs": [],
   "source": [
    "import pandas as pd \n",
    "import os"
   ]
  },
  {
   "cell_type": "code",
   "execution_count": 2,
   "metadata": {},
   "outputs": [],
   "source": [
    "os.chdir('..')"
   ]
  },
  {
   "cell_type": "code",
   "execution_count": 3,
   "metadata": {},
   "outputs": [],
   "source": [
    "# Show full un-truncated output\n",
    "pd.set_option('display.max_colwidth', None)"
   ]
  },
  {
   "cell_type": "code",
   "execution_count": 47,
   "metadata": {},
   "outputs": [],
   "source": [
    "# Load data\n",
    "df = pd.read_csv('data/FACTIVA_FINAL.csv')"
   ]
  },
  {
   "cell_type": "code",
   "execution_count": 48,
   "metadata": {},
   "outputs": [],
   "source": [
    "# First method: random selection of articles\n",
    "\n",
    "# Drop random index columns\n",
    "df.drop(['Unnamed: 0.1', 'Unnamed: 0'], inplace=True, axis=1)\n",
    "# Randomly select some rows\n",
    "df_sample1 = df.sample(frac=0.01, random_state=42)\n",
    "# Add new lines for better annotation\n",
    "df_sample1['body'] = df_sample1['body'].str.replace(\"',\", \"' \\n\")"
   ]
  },
  {
   "cell_type": "code",
   "execution_count": 49,
   "metadata": {},
   "outputs": [],
   "source": [
    "# Export\n",
    "df_sample1.to_csv('outputs/factiva_experiment_data_articles.csv',\n",
    "                 index=True,\n",
    "                 sep=';',\n",
    "                 encoding='utf-8-sig')"
   ]
  },
  {
   "cell_type": "code",
   "execution_count": 5,
   "metadata": {},
   "outputs": [],
   "source": [
    "# Function for splitting strings in a list and appending strings new list\n",
    "def split_list(input, new_list):\n",
    "\n",
    "    #split the input\n",
    "    words = input.split(\"',\")\n",
    "\n",
    "    for i in words:\n",
    "        new_list.append(i)\n",
    "\n",
    "    return new_list"
   ]
  },
  {
   "cell_type": "code",
   "execution_count": 6,
   "metadata": {},
   "outputs": [],
   "source": [
    "# Second method: random selection of paragraphs\n",
    "\n",
    "para_lst = []\n",
    "for i in df['body']: \n",
    "    temp = []\n",
    "    split_list(i, temp)\n",
    "    para_lst.append(temp)\n",
    "\n",
    "para_export = [item for sublist in para_lst for item in sublist]\n",
    "\n",
    "# Check list\n",
    "for i in para_export[:3]:\n",
    "    print(i)\n",
    "\n",
    "# Turn to pandas\n",
    "df_export = pd.DataFrame(para_export)\n",
    "# Randomly select some rows\n",
    "df_sample = df_export.sample(frac=0.01, random_state=42)\n"
   ]
  },
  {
   "cell_type": "code",
   "execution_count": null,
   "metadata": {},
   "outputs": [],
   "source": [
    "# Export\n",
    "df_sample.to_csv('outputs/factiva_experiment_data_paragraphs.csv',\n",
    "                 index=True,\n",
    "                 sep=';',\n",
    "                 encoding='utf-8-sig')"
   ]
  }
 ],
 "metadata": {
  "kernelspec": {
   "display_name": "env",
   "language": "python",
   "name": "python3"
  },
  "language_info": {
   "codemirror_mode": {
    "name": "ipython",
    "version": 3
   },
   "file_extension": ".py",
   "mimetype": "text/x-python",
   "name": "python",
   "nbconvert_exporter": "python",
   "pygments_lexer": "ipython3",
   "version": "3.9.6"
  },
  "orig_nbformat": 4,
  "vscode": {
   "interpreter": {
    "hash": "6d119a92d7093c715885be3ec2a460b5a0206e28b05bb37755ae69b94a669be6"
   }
  }
 },
 "nbformat": 4,
 "nbformat_minor": 2
}
