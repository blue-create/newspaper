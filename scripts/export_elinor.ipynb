{
 "cells": [
  {
   "cell_type": "code",
   "execution_count": 2,
   "metadata": {},
   "outputs": [],
   "source": [
    "import pandas as pd \n",
    "import os"
   ]
  },
  {
   "cell_type": "code",
   "execution_count": 4,
   "metadata": {},
   "outputs": [],
   "source": [
    "os.chdir('..')"
   ]
  },
  {
   "cell_type": "code",
   "execution_count": 8,
   "metadata": {},
   "outputs": [],
   "source": [
    "# Show full un-truncated output\n",
    "pd.set_option('display.max_colwidth', None)"
   ]
  },
  {
   "cell_type": "code",
   "execution_count": 5,
   "metadata": {},
   "outputs": [],
   "source": [
    "# Load data\n",
    "df = pd.read_csv('data/FACTIVA_FINAL.csv')"
   ]
  },
  {
   "cell_type": "code",
   "execution_count": 39,
   "metadata": {},
   "outputs": [],
   "source": [
    "# Function for splitting strings in a list and appending strings new list\n",
    "def split_list(input, new_list):\n",
    "\n",
    "    #split the input\n",
    "    words = input.split(\"',\")\n",
    "\n",
    "    for i in words:\n",
    "        new_list.append(i)\n",
    "\n",
    "    return new_list"
   ]
  },
  {
   "cell_type": "code",
   "execution_count": 40,
   "metadata": {},
   "outputs": [],
   "source": [
    "para_lst = []\n",
    "for i in df['body']: \n",
    "    temp = []\n",
    "    split_list(i, temp)\n",
    "    para_lst.append(temp)\n",
    "\n",
    "para_export = [item for sublist in para_lst for item in sublist]"
   ]
  },
  {
   "cell_type": "code",
   "execution_count": 42,
   "metadata": {},
   "outputs": [
    {
     "name": "stdout",
     "output_type": "stream",
     "text": [
      "['Es gibt physische Gewalt, es gibt psychische Gewalt - und es gibt digitale Gewalt. Wie diese wirkt, wenn sie vom Staat als Waffe eingesetzt wird, das erklärten am Samstag in Berlin Dissidenten und Journalisten, die Opfer der Spähsoftware Pegasus geworden sind: „Es ist, als säße jemand in deinem Gehirn“, sagte der Anwalt Mazen Masri. „Unsere Privatsphäre wurde zerstört“, beschrieb es die mexikanische Journalistin Carmen Aristegui. Und der NSA-Whistleblower Edward Snowden, per Video zugeschaltet, warnte eindringlich vor der drohenden „Ausspäh-Gesellschaft“ und vor der Erosion der Demokratie.\n",
      " 'Nicht nur Aristegui und ihren Kollegen, auch ihrem minderjährigen Sohn wurde Pegasus von staatlichen Organen aufs Handy gespielt. Die Software erlaubt nicht nur, unbemerkt sämtliche Daten des Opfers abzugreifen und dessen gesamte Kommunikation zu verfolgen, sondern auch, diesen mit Kamera und Mikrofon seines eigenen Geräts zu überwachen, sogar unter seinem Namen Anrufe zu tätigen und Nachrichten zu verschicken - und die Links, mit denen dann auch alle im Netzwerk des Betroffenen sich infizieren.\n",
      " 'Pegasus wurde von der israelischen Softwarefirma NSO Group entwickelt und an Staaten wie Saudi-Arabien, Mexiko, die Vereinigten Arabischen Emirate, aber auch Spanien verkauft. Die Software schütze die Welt vor Terroristen, beteuert die Firma. Doch autokratische Herrscher nützen sie immer öfter, um damit Dissidenten, Aktivisten und Journalisten anzugreifen und einzuschüchtern. Auch Journalisten, die kritisch über die NSO Group und das Firmengeflecht, in dem sie eingesponnen ist, berichtet haben, sind Opfer geworden.\n"
     ]
    }
   ],
   "source": [
    "# Check list\n",
    "for i in para_export[:3]:\n",
    "    print(i)"
   ]
  },
  {
   "cell_type": "code",
   "execution_count": 54,
   "metadata": {},
   "outputs": [],
   "source": [
    "# Turn to pandas\n",
    "df_export = pd.DataFrame(para_export)\n",
    "# Randomly select some rows\n",
    "df_sample = df_export.sample(frac=0.01, random_state=42)"
   ]
  },
  {
   "cell_type": "code",
   "execution_count": 56,
   "metadata": {},
   "outputs": [],
   "source": [
    "# Export\n",
    "df_sample.to_csv('outputs/factiva_experiment_data.csv', index=False, encoding='utf-16')"
   ]
  }
 ],
 "metadata": {
  "kernelspec": {
   "display_name": "env",
   "language": "python",
   "name": "python3"
  },
  "language_info": {
   "codemirror_mode": {
    "name": "ipython",
    "version": 3
   },
   "file_extension": ".py",
   "mimetype": "text/x-python",
   "name": "python",
   "nbconvert_exporter": "python",
   "pygments_lexer": "ipython3",
   "version": "3.9.6"
  },
  "orig_nbformat": 4,
  "vscode": {
   "interpreter": {
    "hash": "6d119a92d7093c715885be3ec2a460b5a0206e28b05bb37755ae69b94a669be6"
   }
  }
 },
 "nbformat": 4,
 "nbformat_minor": 2
}
