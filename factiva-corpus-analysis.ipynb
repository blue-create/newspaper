{
 "cells": [
  {
   "cell_type": "code",
   "execution_count": 1,
   "metadata": {},
   "outputs": [
    {
     "name": "stderr",
     "output_type": "stream",
     "text": [
      "/Users/nhuquynh/Library/Python/3.8/lib/python/site-packages/tqdm/auto.py:22: TqdmWarning: IProgress not found. Please update jupyter and ipywidgets. See https://ipywidgets.readthedocs.io/en/stable/user_install.html\n",
      "  from .autonotebook import tqdm as notebook_tqdm\n"
     ]
    }
   ],
   "source": [
    "import pandas as pd \n",
    "import pickle\n",
    "import nltk\n",
    "import numpy as np\n",
    "from nltk.collocations import *\n",
    "import spacy\n",
    "from modules.preprocess_articles import *\n",
    "from modules.collocation_articles import *\n",
    "from tqdm import tqdm"
   ]
  },
  {
   "cell_type": "code",
   "execution_count": 2,
   "metadata": {},
   "outputs": [],
   "source": [
    "# Load model\n",
    "nlp = spacy.load(\"de_core_news_lg\",\n",
    "                 disable=['ner', 'parser', 'tagger'])\n"
   ]
  },
  {
   "cell_type": "code",
   "execution_count": 3,
   "metadata": {},
   "outputs": [],
   "source": [
    "# Load data\n",
    "with open(r\"data/factiva_export.pkl\", \"rb\") as f:\n",
    "    factiva = pickle.load(f)"
   ]
  },
  {
   "cell_type": "code",
   "execution_count": 4,
   "metadata": {},
   "outputs": [],
   "source": [
    "# Only consider first 100 articles for demo\n",
    "for i, item in enumerate(factiva):\n",
    "    factiva[i] = item[:100]"
   ]
  },
  {
   "cell_type": "code",
   "execution_count": 8,
   "metadata": {},
   "outputs": [],
   "source": [
    "# Preprocess pipeline \n",
    "newspaper_preprocessor = Preprocessor(newspaper_data = factiva, nlp = nlp)\n",
    "newspaper_preprocessor.tokenize()\n",
    "newspaper_preprocessor.preprocess()\n",
    "\n",
    "# Individual articles \n",
    "factiva_preprocessed = newspaper_preprocessor.return_preprocessed()\n",
    "\n",
    "# Joint articles\n",
    "factiva_preprocessed_joint = [j for i in factiva_preprocessed for j in i]"
   ]
  },
  {
   "cell_type": "code",
   "execution_count": 9,
   "metadata": {},
   "outputs": [
    {
     "name": "stderr",
     "output_type": "stream",
     "text": [
      "100%|██████████| 100/100 [00:00<00:00, 1176.84it/s]\n"
     ]
    }
   ],
   "source": [
    "# Collocations inside individual articles\n",
    "articles_collocations = []\n",
    "\n",
    "for doc in tqdm(factiva_preprocessed): \n",
    "    collocations = CollocationArticles(doc, nltk.collocations)\n",
    "    articles_collocations.append(collocations.BigramCollocations(doc_type = False))\n",
    "\n",
    "# Collocations across documents \n",
    "doc_finder = CollocationArticles(factiva_preprocessed, nltk.collocations)\n",
    "docs_collocations = doc_finder.BigramCollocations(doc_type = True)\n",
    "\n",
    "# Collocations in joint articles \n",
    "joint_finder = CollocationArticles(factiva_preprocessed_joint, nltk.collocations)\n",
    "articles_collocations_joint = joint_finder.BigramCollocations(doc_type = False)\n",
    "\n",
    "# try this: https://stackoverflow.com/questions/41094134/finding-top-bigrams-across-multiple-large-files\n",
    "# inspo: https://github.com/nicharuc/Collocations/blob/master/Collocations.ipynb\n",
    "# documentation: https://www.nltk.org/howto/collocations.html\n"
   ]
  }
 ],
 "metadata": {
  "kernelspec": {
   "display_name": "Python 3.8.9 64-bit",
   "language": "python",
   "name": "python3"
  },
  "language_info": {
   "codemirror_mode": {
    "name": "ipython",
    "version": 3
   },
   "file_extension": ".py",
   "mimetype": "text/x-python",
   "name": "python",
   "nbconvert_exporter": "python",
   "pygments_lexer": "ipython3",
   "version": "3.8.9"
  },
  "orig_nbformat": 4,
  "vscode": {
   "interpreter": {
    "hash": "31f2aee4e71d21fbe5cf8b01ff0e069b9275f58929596ceb00d14d90e3e16cd6"
   }
  }
 },
 "nbformat": 4,
 "nbformat_minor": 2
}
