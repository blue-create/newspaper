{
 "cells": [
  {
   "cell_type": "code",
   "execution_count": 1,
   "metadata": {},
   "outputs": [],
   "source": [
    "import pandas as pd \n",
    "import matplotlib.pyplot as plt"
   ]
  },
  {
   "cell_type": "code",
   "execution_count": 2,
   "metadata": {},
   "outputs": [],
   "source": [
    "pd.set_option('display.max_rows', None)\n",
    "pd.options.display.max_colwidth = 100000"
   ]
  },
  {
   "cell_type": "code",
   "execution_count": 3,
   "metadata": {},
   "outputs": [],
   "source": [
    "factiva = pd.read_csv(\"data/FACTIVA_FINAL.csv\")"
   ]
  },
  {
   "cell_type": "code",
   "execution_count": 4,
   "metadata": {},
   "outputs": [],
   "source": [
    "# Remove columns with index\n",
    "factiva1 = factiva.drop(['Unnamed: 0.1', 'Unnamed: 0'], axis=1)"
   ]
  },
  {
   "cell_type": "code",
   "execution_count": 5,
   "metadata": {},
   "outputs": [
    {
     "name": "stdout",
     "output_type": "stream",
     "text": [
      "Number of removed articles: 13\n",
      "Number of removed articles: 9\n",
      "Number of removed articles: 1\n"
     ]
    }
   ],
   "source": [
    "# Filter news tickers because DA is only mentioned once in chronology of events\n",
    "factiva1_1 = factiva1[~factiva1['title'].str.contains(\"Newsblog|Ticker|Auf einen Blick|REG_K\\n\")]\n",
    "print(\"Number of removed articles:\",len(factiva1)-len(factiva1_1))\n",
    "factiva1_2 = factiva1_1[~factiva1_1['body'].str.contains('News-Ticker')]\n",
    "print(\"Number of removed articles:\",len(factiva1_1)-len(factiva1_2))\n",
    "# Remove Dschungelcamp ticker describing events in a given episode because DA is only briefly mentioned\n",
    "factiva2 = factiva1_2[~factiva1_2['body'].str.contains('Dschungelcamp')]\n",
    "print(\"Number of removed articles:\",len(factiva1_2)-len(factiva2))"
   ]
  },
  {
   "cell_type": "code",
   "execution_count": 6,
   "metadata": {},
   "outputs": [
    {
     "name": "stdout",
     "output_type": "stream",
     "text": [
      "Amount of articles: 2564\n",
      "Amount of articles to be labelled: 513\n",
      "Average length of articles: 3089.0\n",
      "Median length of articles: 2242.0\n",
      "Length of longest article: 18168\n",
      "Length of shortest article: 89\n"
     ]
    }
   ],
   "source": [
    "print(\"Amount of articles:\", len(factiva2))\n",
    "print(\"Amount of articles to be labelled:\", round(len(factiva2)*0.2))\n",
    "print(\"Average length of articles:\", factiva2.body.str.len().mean().round())\n",
    "print(\"Median length of articles:\", factiva2.body.str.len().median())\n",
    "print(\"Length of longest article:\", factiva2.body.str.len().max())\n",
    "print(\"Length of shortest article:\", factiva2.body.str.len().min())"
   ]
  },
  {
   "cell_type": "code",
   "execution_count": 7,
   "metadata": {},
   "outputs": [
    {
     "name": "stdout",
     "output_type": "stream",
     "text": [
      "Average reading time for 2500 words is: 8.33 . \n",
      " For 512.8000000000001 , articles, we need 72.19 hours.\n"
     ]
    },
    {
     "data": {
      "image/png": "[encoded data removed]",
      "text/plain": [
       "<Figure size 640x480 with 1 Axes>"
      ]
     },
     "metadata": {},
     "output_type": "display_data"
    }
   ],
   "source": [
    "factiva2.body.str.len().plot.hist(bins = 80, title = 'Distribution of articles by amount of words')\n",
    "avg_article_len = 2500\n",
    "print(\"Average reading time for\",avg_article_len,\"words is:\",round(avg_article_len/300, 2),\". \\n For\",len(factiva2)*0.2,\", articles, we need\",round(520*round(avg_article_len/300, 2)/60, 2), \"hours.\")"
   ]
  },
  {
   "cell_type": "code",
   "execution_count": 8,
   "metadata": {},
   "outputs": [
    {
     "name": "stdout",
     "output_type": "stream",
     "text": [
      "Number of newspapers in this dataset: 68 \n",
      "\n",
      "Number of articles by newspaper:\n",
      " newspaper\n",
      "Focus Online                                   332\n",
      "Süddeutsche Zeitung                            162\n",
      "Märkische Allgemeine Zeitung                   149\n",
      "WELT online                                    119\n",
      "Stuttgarter Zeitung                            119\n",
      "Agence France Presse                           114\n",
      "bild.de                                         99\n",
      "Kölner Stadt-Anzeiger                           97\n",
      "SDA - Schweizerische Depeschenagentur           85\n",
      "Kurier Online                                   71\n",
      "Basler Zeitung                                  66\n",
      "Hamburger Abendblatt                            66\n",
      "taz - die tageszeitung                          61\n",
      "dpa-AFX ProFeed                                 58\n",
      "ANSA Regional Service - Trentino Alto Adige     55\n",
      "Neue Zürcher Zeitung                            47\n",
      "Der Tagesspiegel                                46\n",
      "AP Weltnachrichten                              46\n",
      "Tages Anzeiger                                  44\n",
      "Hamburger Abendblatt Online                     42\n",
      "Frankfurter Rundschau Online                    42\n",
      "Der Tagesspiegel Online                         40\n",
      "Dow Jones Newswires German                      34\n",
      "Der Standard                                    34\n",
      "Berliner Morgenpost                             34\n",
      "Tages Anzeiger Online                           33\n",
      "Die Presse                                      32\n",
      "ZEIT online                                     32\n",
      "Kurier                                          30\n",
      "Weser Kurier                                    28\n",
      "Berliner Zeitung                                28\n",
      "Berliner Morgenpost Online                      27\n",
      "Allgemeine Zeitung                              27\n",
      "Frankfurter Rundschau                           26\n",
      "Deutsche Welle                                  20\n",
      "General Anzeiger                                20\n",
      "Sächsische Zeitung                              19\n",
      "dpa-InfoLine                                    18\n",
      "Welt am Sonntag                                 18\n",
      "taz.de                                          17\n",
      "Märkische Allgemeine                            15\n",
      "NZZ am Sonntag                                  14\n",
      "BILD Plus                                       12\n",
      "Die Welt                                        12\n",
      "BILD                                             7\n",
      "Süddeutsche Zeitung Online                       6\n",
      "Leipziger Volkszeitung                           5\n",
      "Kieler Nachrichten/Segeberger Zeitung            5\n",
      "Falter                                           5\n",
      "Hannoversche Allgemeine Zeitung                  4\n",
      "Reuters - Nachrichten auf Deutsch                4\n",
      "Blick                                            4\n",
      "Stern                                            4\n",
      "DW Deutsch                                       3\n",
      "Blick Online                                     3\n",
      "DIE ZEIT                                         3\n",
      "Basler Zeitung Online                            3\n",
      "Business Insider                                 2\n",
      "Kölner Stadtanzeiger                             2\n",
      "Kieler Nachrichten                               2\n",
      "Handelsblatt Online                              2\n",
      "Nürnberger Nachrichten                           2\n",
      "Kieler Nachrichten Online                        2\n",
      "NZZ International                                2\n",
      "Handelsblatt                                     1\n",
      "ZEIT Österreich                                  1\n",
      "Spiegel Online                                   1\n",
      "Focus                                            1\n",
      "dtype: int64\n"
     ]
    }
   ],
   "source": [
    "print(\"Number of newspapers in this dataset:\", factiva2['newspaper'].nunique(), \"\\n\")\n",
    "print(\"Number of articles by newspaper:\\n\", factiva2.groupby('newspaper').size().sort_values(ascending=False))"
   ]
  },
  {
   "cell_type": "code",
   "execution_count": 16,
   "metadata": {},
   "outputs": [],
   "source": [
    "# turn back to list for processing\n",
    "title = factiva2['title'].tolist()\n",
    "body = factiva2['body']"
   ]
  },
  {
   "cell_type": "code",
   "execution_count": 15,
   "metadata": {},
   "outputs": [
    {
     "data": {
      "text/plain": [
       "Index(['title', 'body', 'date', 'newspaper'], dtype='object')"
      ]
     },
     "execution_count": 15,
     "metadata": {},
     "output_type": "execute_result"
    }
   ],
   "source": [
    "factiva2.columns"
   ]
  },
  {
   "cell_type": "code",
   "execution_count": 17,
   "metadata": {},
   "outputs": [
    {
     "data": {
      "text/plain": [
       "2564"
      ]
     },
     "execution_count": 17,
     "metadata": {},
     "output_type": "execute_result"
    }
   ],
   "source": [
    "len(title)"
   ]
  }
 ],
 "metadata": {
  "kernelspec": {
   "display_name": "Python 3.8.9 64-bit",
   "language": "python",
   "name": "python3"
  },
  "language_info": {
   "codemirror_mode": {
    "name": "ipython",
    "version": 3
   },
   "file_extension": ".py",
   "mimetype": "text/x-python",
   "name": "python",
   "nbconvert_exporter": "python",
   "pygments_lexer": "ipython3",
   "version": "3.8.10"
  },
  "orig_nbformat": 4,
  "vscode": {
   "interpreter": {
    "hash": "31f2aee4e71d21fbe5cf8b01ff0e069b9275f58929596ceb00d14d90e3e16cd6"
   }
  }
 },
 "nbformat": 4,
 "nbformat_minor": 2
}
