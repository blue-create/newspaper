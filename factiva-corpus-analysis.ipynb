{
 "cells": [
  {
   "cell_type": "code",
   "execution_count": 20,
   "metadata": {},
   "outputs": [],
   "source": [
    "import pandas as pd \n",
    "import pickle\n",
    "import nltk\n",
    "import numpy as np\n",
    "from nltk.collocations import *\n",
    "import spacy\n",
    "from modules.preprocess_articles import *\n",
    "from tqdm import tqdm"
   ]
  },
  {
   "cell_type": "code",
   "execution_count": 2,
   "metadata": {},
   "outputs": [],
   "source": [
    "# Load model\n",
    "nlp = spacy.load(\"de_core_news_lg\",\n",
    "                 disable=['ner', 'parser', 'tagger'])\n"
   ]
  },
  {
   "cell_type": "code",
   "execution_count": 3,
   "metadata": {},
   "outputs": [],
   "source": [
    "# Load data\n",
    "with open(r\"data/factiva_export.pkl\", \"rb\") as f:\n",
    "    factiva = pickle.load(f)"
   ]
  },
  {
   "cell_type": "code",
   "execution_count": 4,
   "metadata": {},
   "outputs": [],
   "source": [
    "# Only consider first 10 articles for demo\n",
    "for i, item in enumerate(factiva):\n",
    "    factiva[i] = item[:50]"
   ]
  },
  {
   "cell_type": "code",
   "execution_count": 5,
   "metadata": {},
   "outputs": [],
   "source": [
    "# Preprocess pipeline \n",
    "newspaperPreprocessor = Preprocessor(newspaper_data = factiva, nlp = nlp)\n",
    "newspaperPreprocessor.tokenize()\n",
    "newspaperPreprocessor.preprocess()\n",
    "\n",
    "# Individual articles \n",
    "factiva_preprocessed = newspaperPreprocessor.return_preprocessed()\n",
    "\n",
    "# Joint articles\n",
    "factiva_preprocessed_long = [j for i in factiva_preprocessed for j in i]"
   ]
  },
  {
   "cell_type": "code",
   "execution_count": 7,
   "metadata": {},
   "outputs": [],
   "source": [
    "# Load methods for 2 and 3 word pairs \n",
    "bigram_measures = nltk.collocations.BigramAssocMeasures()\n",
    "trigram_measures = nltk.collocations.TrigramAssocMeasures()"
   ]
  },
  {
   "cell_type": "code",
   "execution_count": 23,
   "metadata": {},
   "outputs": [
    {
     "name": "stderr",
     "output_type": "stream",
     "text": [
      "100%|██████████| 50/50 [00:00<00:00, 1813.96it/s]\n"
     ]
    }
   ],
   "source": [
    "articles_collocations = []\n",
    "\n",
    "for doc in tqdm(factiva_preprocessed): \n",
    "    # Bigrams \n",
    "    finder = BigramCollocationFinder.from_words(doc)\n",
    "    # only bigrams that appear +2 times \n",
    "    finder.apply_freq_filter(2)\n",
    "    # return 10 n-grams with highest PMI\n",
    "    articles_collocations.append(finder.nbest(bigram_measures.likelihood_ratio, 10))\n",
    "\n",
    "# try this: https://stackoverflow.com/questions/41094134/finding-top-bigrams-across-multiple-large-files\n",
    "# inspo: https://github.com/nicharuc/Collocations/blob/master/Collocations.ipynb\n",
    "# documentation: https://www.nltk.org/howto/collocations.html\n"
   ]
  },
  {
   "cell_type": "code",
   "execution_count": null,
   "metadata": {},
   "outputs": [],
   "source": [
    "## Bigrams\n",
    "finder = BigramCollocationFinder.from_words(\n",
    "   factiva_preprocessed[33])\n",
    "# only bigrams that appear 3+ times\n",
    "finder.apply_freq_filter(2)\n",
    "# return the 10 n-grams with the highest PMI\n",
    "print(finder.nbest(bigram_measures.likelihood_ratio, 10))"
   ]
  },
  {
   "cell_type": "code",
   "execution_count": 12,
   "metadata": {},
   "outputs": [
    {
     "name": "stdout",
     "output_type": "stream",
     "text": [
      "[]\n"
     ]
    }
   ],
   "source": [
    "## Bigrams\n",
    "finder = BigramCollocationFinder.from_words(\n",
    "   factiva_preprocessed[33])\n",
    "# only bigrams that appear 3+ times\n",
    "finder.apply_freq_filter(2)\n",
    "# return the 10 n-grams with the highest PMI\n",
    "print(finder.nbest(bigram_measures.likelihood_ratio, 10))"
   ]
  },
  {
   "cell_type": "code",
   "execution_count": 16,
   "metadata": {},
   "outputs": [
    {
     "name": "stdout",
     "output_type": "stream",
     "text": [
      "[]\n"
     ]
    }
   ],
   "source": [
    "## Trigrams\n",
    "finder = TrigramCollocationFinder.from_words(\n",
    "   factiva_preprocessed[33])\n",
    "# only trigrams that appear 3+ times\n",
    "finder.apply_freq_filter(2)\n",
    "# return the 10 n-grams with the highest PMI\n",
    "print(finder.nbest(trigram_measures.likelihood_ratio, 10))"
   ]
  }
 ],
 "metadata": {
  "kernelspec": {
   "display_name": "Python 3.8.9 64-bit",
   "language": "python",
   "name": "python3"
  },
  "language_info": {
   "codemirror_mode": {
    "name": "ipython",
    "version": 3
   },
   "file_extension": ".py",
   "mimetype": "text/x-python",
   "name": "python",
   "nbconvert_exporter": "python",
   "pygments_lexer": "ipython3",
   "version": "3.8.9"
  },
  "orig_nbformat": 4,
  "vscode": {
   "interpreter": {
    "hash": "31f2aee4e71d21fbe5cf8b01ff0e069b9275f58929596ceb00d14d90e3e16cd6"
   }
  }
 },
 "nbformat": 4,
 "nbformat_minor": 2
}
