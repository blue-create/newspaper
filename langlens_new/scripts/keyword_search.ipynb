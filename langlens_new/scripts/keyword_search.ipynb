{
 "cells": [
  {
   "cell_type": "code",
   "execution_count": 1,
   "metadata": {},
   "outputs": [],
   "source": [
    "import pandas as pd\n",
    "import os\n"
   ]
  },
  {
   "cell_type": "code",
   "execution_count": 2,
   "metadata": {},
   "outputs": [
    {
     "data": {
      "text/plain": [
       "'/Users/nhuquynh/Documents/repos/languagelens'"
      ]
     },
     "execution_count": 2,
     "metadata": {},
     "output_type": "execute_result"
    }
   ],
   "source": [
    "os.chdir('..')\n",
    "os.getcwd() # output should be languagelens, not scripts"
   ]
  },
  {
   "cell_type": "code",
   "execution_count": 3,
   "metadata": {},
   "outputs": [],
   "source": [
    "pd.set_option('display.max_colwidth', None)"
   ]
  },
  {
   "cell_type": "code",
   "execution_count": 4,
   "metadata": {},
   "outputs": [],
   "source": [
    "df = pd.read_excel('output/format_example.xlsx', engine='openpyxl')"
   ]
  },
  {
   "cell_type": "code",
   "execution_count": 5,
   "metadata": {},
   "outputs": [
    {
     "data": {
      "text/html": [
       "<div>\n",
       "<style scoped>\n",
       "    .dataframe tbody tr th:only-of-type {\n",
       "        vertical-align: middle;\n",
       "    }\n",
       "\n",
       "    .dataframe tbody tr th {\n",
       "        vertical-align: top;\n",
       "    }\n",
       "\n",
       "    .dataframe thead th {\n",
       "        text-align: right;\n",
       "    }\n",
       "</style>\n",
       "<table border=\"1\" class=\"dataframe\">\n",
       "  <thead>\n",
       "    <tr style=\"text-align: right;\">\n",
       "      <th></th>\n",
       "      <th>Unnamed: 0</th>\n",
       "      <th>article_id</th>\n",
       "      <th>newspaper_id</th>\n",
       "      <th>newspaper</th>\n",
       "      <th>year</th>\n",
       "      <th>date</th>\n",
       "      <th>page_start</th>\n",
       "      <th>ressort</th>\n",
       "      <th>dachzeile</th>\n",
       "      <th>title</th>\n",
       "      <th>subtitle</th>\n",
       "      <th>text</th>\n",
       "    </tr>\n",
       "  </thead>\n",
       "  <tbody>\n",
       "    <tr>\n",
       "      <th>0</th>\n",
       "      <td>0</td>\n",
       "      <td>23-155962869</td>\n",
       "      <td>WKR</td>\n",
       "      <td>Wittlager Kreisblatt</td>\n",
       "      <td>2022</td>\n",
       "      <td>15.12.2022</td>\n",
       "      <td>6</td>\n",
       "      <td>wirtschaft</td>\n",
       "      <td>475100</td>\n",
       "      <td>Ausbildungsverträge wurden 2022 geschlossen</td>\n",
       "      <td>NaN</td>\n",
       "      <td>['', 'Die Zahl der neu geschlossenen Ausbildungsverträge ist in diesem Jahr leicht gestiegen. Wie das Bundesinstitut für Berufsbildung (BIBB) gestern mitteilte, wurden bis zum Stichtag am 30. September 475100 Verträge geschlossen. Das waren 2100 mehr als 2021. Das Institut wies aber darauf hin, dass die Zahl weiterhin deutlich unter dem Vor-Corona-Niveau liege - um fast 10 Prozent.', 'Die Unternehmen boten 544000 Ausbildungsplätze an, 1,4 Prozent mehr als 2021, aber immer noch 5,9 weniger als vor Corona im Jahr 2019. dpa']</td>\n",
       "    </tr>\n",
       "    <tr>\n",
       "      <th>1</th>\n",
       "      <td>1</td>\n",
       "      <td>23-155962889</td>\n",
       "      <td>WKR</td>\n",
       "      <td>Wittlager Kreisblatt</td>\n",
       "      <td>2022</td>\n",
       "      <td>15.12.2022</td>\n",
       "      <td>6</td>\n",
       "      <td>wirtschaft</td>\n",
       "      <td>NaN</td>\n",
       "      <td>Einbrüche und Chancen</td>\n",
       "      <td>kommentar</td>\n",
       "      <td>['Lockdowns und Abstandsgebote haben viele Geschäfte in den Innenstädten nicht überlebt. Natürlich sind gut 41', '000 Geschäftsaufgaben in den vergangenen knapp drei Jahren eine horrende Zahl, vergleicht man sie mit den rund 15000, die man in gewöhnlichen Zeiten erwartet hätte. Allerdings ist die Anzahl angesichts der Schwere der Verwerfungen noch moderat. Das belegen auch Zahlen aus anderen Branchen: Im vergangenen Jahr ist die Anzahl von Unternehmensinsolvenzen auf ein historisches Tief gefallen. Und wohlgemerkt - da gab es noch allerlei Restriktionen. Das Ergebnis ist kein Zufall. Es verdankt sich Hilfspaketen, die Bund und Länder geschnürt haben, aber auch einer zeitweise ausgesetzten Insolvenzmeldepflicht.', 'Solche Maßnahmen haben es Unternehmen ermöglicht, trotz widriger Umstände weitermachen zu können. Und sie haben es Konsumenten ermöglicht, weiter Geld in den Konsum zu stecken.  Eine andere Frage ist, wo die Händler ihre Geschäfte gemacht haben. Denn auf Dauer werden auch die Einzelhändler in den Innenstädten nur überleben können, wenn ihr Verkaufsraum auch ins Netz hineinreicht.']</td>\n",
       "    </tr>\n",
       "    <tr>\n",
       "      <th>2</th>\n",
       "      <td>2</td>\n",
       "      <td>23-155963323</td>\n",
       "      <td>WKR</td>\n",
       "      <td>Wittlager Kreisblatt</td>\n",
       "      <td>2022</td>\n",
       "      <td>15.12.2022</td>\n",
       "      <td>6</td>\n",
       "      <td>wirtschaft</td>\n",
       "      <td>NaN</td>\n",
       "      <td>Einzelhandel im Krisenmodus</td>\n",
       "      <td>Erst Lockdowns, dann gebremste Kauflust: Rund 41000 Geschäfte sind verschwunden / Ist die Talsohle nun durchschritten?</td>\n",
       "      <td>['Mischa Ehrhardt', 'Die Corona-Pandemie und die anhaltende Energiekrise haben zu einem erheblichen Kahlschlag von Ladengeschäften in den deutschen Innenstädten geführt. So hat der Einzelhandelsverband HDE errechnet, dass seit Beginn der Pandemie bis heute rund 41000 Läden ihre Türen schließen mussten. \"Das ist eine hohe Zahl. Vor allem ist es eine höhere Zahl, als wir sie in normalen Jahren sehen\", sagte HDE-Sprecher Stefan Hertel unserer Redaktion. \"Und das zeigt, wie tief die Spuren dieser Krisen im Einzelhandel sind.\"', 'Das macht auch ein Vergleich klar: In Vor-Corona-Zeiten waren es jährlich im Durchschnitt nur 5000 Geschäfte, die dichtmachen mussten.', 'Nach der Pandemie sei insbesondere auch die Situation in den letzten Monaten sehr belastend für viele Einzelhändler gewesen. Denn zum einen bedeuten die hohen Energiepreise natürlich auch für Geschäfte höhere Kosten. So rechnet der Verband vor, dass die Umsatzrenditen bei vielen Einzelhändlern durch die hohen Energiepreise aufgefressen würden. So schrumpften bei derart betroffenen Unternehmen die Gewinne schlicht auf null. Infolgedessen müssten Händler dann an ihr Eigenkapital gehen, das allerdings in vielen Fällen schon durch die Corona-Lockdowns stark geschrumpft sei.', 'Besonders zu leiden habe in dieser Situation der Lebensmittelhandel mit großen Kühltheken.', '&lt;strong class=\"zwischen\"&gt;Kaufen mit Bedacht', 'Zum anderen haben die Konsumenten weniger Geld in der Tasche oder halten es aufgrund von Unsicherheit zurück. So geben in einer Umfrage des Digitalverbandes Bitkom über zwei Drittel der Befragten an, sich aktuell sorgfältiger zu überlegen, was sie wirklich brauchen. \"Die Menschen in Deutschland wollen auf das Geld gucken, und viele müssen auch auf das Geld gucken\", sagte Bitkom-Hauptgeschäftsführer Bernhard Rohleder. So hat auch das Konsumbarometer in den vergangenen Monaten immer wieder neue Tiefstände erreicht.', 'Die Konsumforscher der GfK in Nürnberg stellen fest, dass vor allem die Einkommenserwartungen unter der hohen Inflation gelitten haben. Denn da die Löhne nicht so stark steigen wie die Inflation, heißt das unter dem Strich reale Einkommensverluste. Das führt dazu, dass insbesondere die Anschaffung von langlebigen Gütern herausgezögert oder verschoben wird, wie etwa neue Kühlschränke, Autos oder auch Einrichtungsgegenstände.', 'Doch es gibt auch gute Nachrichten für Einzelhändler: In den letzten beiden Befragungen hat die Stimmung nicht weiter nachgegeben, sondern sich mehr oder weniger stabilisiert. Insofern hat sich die Lage also etwas aufgehellt. Nach Einschätzung des Einzelhandels liegt das auch an den von der Bundesregierung in der Krise beschlossenen Maßnahmen. So sorge etwa die geplante Gas- und Strompreisbremse für Erleichterung in vielen Haushalten, sodass absehbar wieder mehr Geld zur Verfügung stehen dürfte.']</td>\n",
       "    </tr>\n",
       "    <tr>\n",
       "      <th>3</th>\n",
       "      <td>3</td>\n",
       "      <td>23-155951949</td>\n",
       "      <td>WKR</td>\n",
       "      <td>Wittlager Kreisblatt</td>\n",
       "      <td>2022</td>\n",
       "      <td>15.12.2022</td>\n",
       "      <td>7</td>\n",
       "      <td>wirtschaft</td>\n",
       "      <td>NaN</td>\n",
       "      <td>Wirtschaft schrumpft 2023 minimal</td>\n",
       "      <td>Ifo-Prognose: Rezession in Deutschland fällt wohl milder aus</td>\n",
       "      <td>['Berlin/München', 'Die deutsche Wirtschaft wird nach einer Prognose des Ifo-Instituts 2023 wohl nur um 0,1 Prozent schrumpfen. Die Rezession im Winterhalbjahr werde milder als erwartet, und \"danach geht es wieder aufwärts\", sagte der Leiter der Ifo-Prognosen, Timo Wollmershäuser, gestern. Wegen der Strom- und Gaspreisbremse dürfte die Inflationsrate von 7,8 Prozent in diesem Jahr auf 6,4 Prozent im kommenden Jahr sinken. Im Herbst hatten die Wirtschaftsforscher noch einen Anstieg auf 9,3 Prozent erwartet.', 'Das dritte Quartal dieses Jahres sei mit 0,4 Prozent Wirtschaftswachstum \"viel besser als gedacht\" gewesen, sagte Wollmershäuser. Nun erwarten die Forscher für 2022 ein Wirtschaftswachstum von 1,8 Prozent statt bisher 1,6 Prozent. Der hohe Preisauftrieb werde im Winterhalbjahr die verfügbaren Realeinkommen der privaten Haushalte sinken lassen und damit die Konjunktur abkühlen. \"Erst ab der zweiten Jahreshälfte dürften die Einkommen im Verlauf wieder stärker zulegen als die Preise und damit der private Konsum an Fahrt aufnehmen\", teilte das Institut mit. Damit werde die Wirtschaftsleistung 2023 nur um 0,1 Prozent schrumpfen statt wie im Herbst erwartet um 0,3 Prozent.', 'Die Arbeitslosenquote wird der Prognose zufolge von 5,3 Prozent in die-', 'sem Jahr auf 5,5 Prozent', 'im kommenden Jahr zulegen.  dpa']</td>\n",
       "    </tr>\n",
       "    <tr>\n",
       "      <th>4</th>\n",
       "      <td>4</td>\n",
       "      <td>23-155952521</td>\n",
       "      <td>WKR</td>\n",
       "      <td>Wittlager Kreisblatt</td>\n",
       "      <td>2022</td>\n",
       "      <td>15.12.2022</td>\n",
       "      <td>7</td>\n",
       "      <td>wirtschaft</td>\n",
       "      <td>NaN</td>\n",
       "      <td>Mercedes-Benz stärkt  Standort Deutschland</td>\n",
       "      <td>Autobauer will zahlreiche Arbeitsplätze absichern</td>\n",
       "      <td>['Stuttgart ', 'Der Autobauer Mercedes-Benz will Bauteile für seine Elektroautos auch künftig in Deutschland produzieren und damit hierzulande Tausende Arbeitsplätze absichern. Insgesamt will das Unternehmen in den nächsten Jahren einen mittleren einstelligen Milliardenbetrag in Europa und China in die Hand nehmen, wie es mitteilte. Ein Arbeitnehmervertreter sprach von Sicherheit für die betroffenen Mitarbeiter bis ins nächste Jahrzehnt.', 'Konkret soll am bisher auf Verbrennermotoren spezialisierten Werk in Kölleda in Thüringen eine Batteriemontage entstehen. Entsprechende Gespräche mit der Landesregierung dazu seien auf einem guten Weg, eine finale Entscheidung sei in wenigen Wochen zu erwarten, sagte Mercedes-Logistikchef Jörg Burzer. An dem Standort mit 1300 Mitarbeitern sollen Burzer zufolge grob ab 2026 oder 2027 erste Anlagen anlaufen. Neben Batterien sollen dort auch weiter Verbrenner gebaut werden.', 'Außerdem soll im sächsischen Kamenz und in Brühl am Standort Untertürkheim (insgesamt 16000 Mitarbeiter) ab 2024 der Hochlauf für Batterien für neue vollelektrische E-Modelle starten. In Peking in China ist das ab 2025 geplant. An allen drei Standorten werden aktuell schon Batterien gefertigt.', 'Fertigung und Montage der Achsen für die künftigen Mercedes-Stromer sollen den Plänen zufolge weiter in Hamburg und in Untertürkheim/Mettingen stattfinden. Außerdem soll in Peking, Untertürkheim und im rumänischen Sebes ab 2024 der Hochlauf für elektrische Antriebseinheiten beginnen. Im Mercedes-Benz-Werk in Berlin sollen ab Mitte des Jahrzehnts besonders leistungsstarke Elektromotoren gebaut werden. Die Pläne waren bereits bekannt gewesen.  dpa']</td>\n",
       "    </tr>\n",
       "  </tbody>\n",
       "</table>\n",
       "</div>"
      ],
      "text/plain": [
       "   Unnamed: 0    article_id newspaper_id             newspaper  year  \\\n",
       "0           0  23-155962869          WKR  Wittlager Kreisblatt  2022   \n",
       "1           1  23-155962889          WKR  Wittlager Kreisblatt  2022   \n",
       "2           2  23-155963323          WKR  Wittlager Kreisblatt  2022   \n",
       "3           3  23-155951949          WKR  Wittlager Kreisblatt  2022   \n",
       "4           4  23-155952521          WKR  Wittlager Kreisblatt  2022   \n",
       "\n",
       "         date  page_start     ressort dachzeile  \\\n",
       "0  15.12.2022           6  wirtschaft    475100   \n",
       "1  15.12.2022           6  wirtschaft       NaN   \n",
       "2  15.12.2022           6  wirtschaft       NaN   \n",
       "3  15.12.2022           7  wirtschaft       NaN   \n",
       "4  15.12.2022           7  wirtschaft       NaN   \n",
       "\n",
       "                                         title  \\\n",
       "0  Ausbildungsverträge wurden 2022 geschlossen   \n",
       "1                        Einbrüche und Chancen   \n",
       "2                  Einzelhandel im Krisenmodus   \n",
       "3            Wirtschaft schrumpft 2023 minimal   \n",
       "4   Mercedes-Benz stärkt  Standort Deutschland   \n",
       "\n",
       "                                                                                                                 subtitle  \\\n",
       "0                                                                                                                     NaN   \n",
       "1                                                                                                               kommentar   \n",
       "2  Erst Lockdowns, dann gebremste Kauflust: Rund 41000 Geschäfte sind verschwunden / Ist die Talsohle nun durchschritten?   \n",
       "3                                                            Ifo-Prognose: Rezession in Deutschland fällt wohl milder aus   \n",
       "4                                                                       Autobauer will zahlreiche Arbeitsplätze absichern   \n",
       "\n",
       "                                                                                                                                                                                                                                                                                                                                                                                                                                                                                                                                                                                                                                                                                                                                                                                                                                                                                                                                                                                                                                                                                                                                                                                                                                                                                                                                                                                                                                                                                                                                                                                                                                                                                                                                                                                                                                                                                                                                                                                                                                                                                                                                                                                                                                                                                                                                                                                                                                                                                                                                                                                                                                                                                                                                                                                                                                                                                                                                                            text  \n",
       "0                                                                                                                                                                                                                                                                                                                                                                                                                                                                                                                                                                                                                                                                                                                                                                                                                                                                                                                                                                                                                                                                                                                                                                                                                                                                                                                                                                                                                                                                                                                                                                                                                                                                                                                                                                                                                                                                                                                                                                                                                                                                                                                                                                                                                                                                                                                                                                                                               ['', 'Die Zahl der neu geschlossenen Ausbildungsverträge ist in diesem Jahr leicht gestiegen. Wie das Bundesinstitut für Berufsbildung (BIBB) gestern mitteilte, wurden bis zum Stichtag am 30. September 475100 Verträge geschlossen. Das waren 2100 mehr als 2021. Das Institut wies aber darauf hin, dass die Zahl weiterhin deutlich unter dem Vor-Corona-Niveau liege - um fast 10 Prozent.', 'Die Unternehmen boten 544000 Ausbildungsplätze an, 1,4 Prozent mehr als 2021, aber immer noch 5,9 weniger als vor Corona im Jahr 2019. dpa']  \n",
       "1                                                                                                                                                                                                                                                                                                                                                                                                                                                                                                                                                                                                                                                                                                                                                                                                                                                                                                                                                                                                                                                                                                                                                                                                                                                                                                                                                                                                                                                                                                                                                                                                                                                                                                                                                                                                           ['Lockdowns und Abstandsgebote haben viele Geschäfte in den Innenstädten nicht überlebt. Natürlich sind gut 41', '000 Geschäftsaufgaben in den vergangenen knapp drei Jahren eine horrende Zahl, vergleicht man sie mit den rund 15000, die man in gewöhnlichen Zeiten erwartet hätte. Allerdings ist die Anzahl angesichts der Schwere der Verwerfungen noch moderat. Das belegen auch Zahlen aus anderen Branchen: Im vergangenen Jahr ist die Anzahl von Unternehmensinsolvenzen auf ein historisches Tief gefallen. Und wohlgemerkt - da gab es noch allerlei Restriktionen. Das Ergebnis ist kein Zufall. Es verdankt sich Hilfspaketen, die Bund und Länder geschnürt haben, aber auch einer zeitweise ausgesetzten Insolvenzmeldepflicht.', 'Solche Maßnahmen haben es Unternehmen ermöglicht, trotz widriger Umstände weitermachen zu können. Und sie haben es Konsumenten ermöglicht, weiter Geld in den Konsum zu stecken.  Eine andere Frage ist, wo die Händler ihre Geschäfte gemacht haben. Denn auf Dauer werden auch die Einzelhändler in den Innenstädten nur überleben können, wenn ihr Verkaufsraum auch ins Netz hineinreicht.']  \n",
       "2  ['Mischa Ehrhardt', 'Die Corona-Pandemie und die anhaltende Energiekrise haben zu einem erheblichen Kahlschlag von Ladengeschäften in den deutschen Innenstädten geführt. So hat der Einzelhandelsverband HDE errechnet, dass seit Beginn der Pandemie bis heute rund 41000 Läden ihre Türen schließen mussten. \"Das ist eine hohe Zahl. Vor allem ist es eine höhere Zahl, als wir sie in normalen Jahren sehen\", sagte HDE-Sprecher Stefan Hertel unserer Redaktion. \"Und das zeigt, wie tief die Spuren dieser Krisen im Einzelhandel sind.\"', 'Das macht auch ein Vergleich klar: In Vor-Corona-Zeiten waren es jährlich im Durchschnitt nur 5000 Geschäfte, die dichtmachen mussten.', 'Nach der Pandemie sei insbesondere auch die Situation in den letzten Monaten sehr belastend für viele Einzelhändler gewesen. Denn zum einen bedeuten die hohen Energiepreise natürlich auch für Geschäfte höhere Kosten. So rechnet der Verband vor, dass die Umsatzrenditen bei vielen Einzelhändlern durch die hohen Energiepreise aufgefressen würden. So schrumpften bei derart betroffenen Unternehmen die Gewinne schlicht auf null. Infolgedessen müssten Händler dann an ihr Eigenkapital gehen, das allerdings in vielen Fällen schon durch die Corona-Lockdowns stark geschrumpft sei.', 'Besonders zu leiden habe in dieser Situation der Lebensmittelhandel mit großen Kühltheken.', '<strong class=\"zwischen\">Kaufen mit Bedacht', 'Zum anderen haben die Konsumenten weniger Geld in der Tasche oder halten es aufgrund von Unsicherheit zurück. So geben in einer Umfrage des Digitalverbandes Bitkom über zwei Drittel der Befragten an, sich aktuell sorgfältiger zu überlegen, was sie wirklich brauchen. \"Die Menschen in Deutschland wollen auf das Geld gucken, und viele müssen auch auf das Geld gucken\", sagte Bitkom-Hauptgeschäftsführer Bernhard Rohleder. So hat auch das Konsumbarometer in den vergangenen Monaten immer wieder neue Tiefstände erreicht.', 'Die Konsumforscher der GfK in Nürnberg stellen fest, dass vor allem die Einkommenserwartungen unter der hohen Inflation gelitten haben. Denn da die Löhne nicht so stark steigen wie die Inflation, heißt das unter dem Strich reale Einkommensverluste. Das führt dazu, dass insbesondere die Anschaffung von langlebigen Gütern herausgezögert oder verschoben wird, wie etwa neue Kühlschränke, Autos oder auch Einrichtungsgegenstände.', 'Doch es gibt auch gute Nachrichten für Einzelhändler: In den letzten beiden Befragungen hat die Stimmung nicht weiter nachgegeben, sondern sich mehr oder weniger stabilisiert. Insofern hat sich die Lage also etwas aufgehellt. Nach Einschätzung des Einzelhandels liegt das auch an den von der Bundesregierung in der Krise beschlossenen Maßnahmen. So sorge etwa die geplante Gas- und Strompreisbremse für Erleichterung in vielen Haushalten, sodass absehbar wieder mehr Geld zur Verfügung stehen dürfte.']  \n",
       "3                                                                                                                                                                                                                                                                                                                                                                                                                                                                                                                                                                                                                                                                                                                                                                                                                                                                                                                                                                                                                                                                                                                                                                                                                                                                                                                                                                                                                                                                                                                                                                             ['Berlin/München', 'Die deutsche Wirtschaft wird nach einer Prognose des Ifo-Instituts 2023 wohl nur um 0,1 Prozent schrumpfen. Die Rezession im Winterhalbjahr werde milder als erwartet, und \"danach geht es wieder aufwärts\", sagte der Leiter der Ifo-Prognosen, Timo Wollmershäuser, gestern. Wegen der Strom- und Gaspreisbremse dürfte die Inflationsrate von 7,8 Prozent in diesem Jahr auf 6,4 Prozent im kommenden Jahr sinken. Im Herbst hatten die Wirtschaftsforscher noch einen Anstieg auf 9,3 Prozent erwartet.', 'Das dritte Quartal dieses Jahres sei mit 0,4 Prozent Wirtschaftswachstum \"viel besser als gedacht\" gewesen, sagte Wollmershäuser. Nun erwarten die Forscher für 2022 ein Wirtschaftswachstum von 1,8 Prozent statt bisher 1,6 Prozent. Der hohe Preisauftrieb werde im Winterhalbjahr die verfügbaren Realeinkommen der privaten Haushalte sinken lassen und damit die Konjunktur abkühlen. \"Erst ab der zweiten Jahreshälfte dürften die Einkommen im Verlauf wieder stärker zulegen als die Preise und damit der private Konsum an Fahrt aufnehmen\", teilte das Institut mit. Damit werde die Wirtschaftsleistung 2023 nur um 0,1 Prozent schrumpfen statt wie im Herbst erwartet um 0,3 Prozent.', 'Die Arbeitslosenquote wird der Prognose zufolge von 5,3 Prozent in die-', 'sem Jahr auf 5,5 Prozent', 'im kommenden Jahr zulegen.  dpa']  \n",
       "4                                                                                                                                                                                                                                                                                                                                                                                                                                                                                                                                                                                                                                                                                                                                                                                                                                                                                                                                                                                                                                                                                                                                                                                                                      ['Stuttgart ', 'Der Autobauer Mercedes-Benz will Bauteile für seine Elektroautos auch künftig in Deutschland produzieren und damit hierzulande Tausende Arbeitsplätze absichern. Insgesamt will das Unternehmen in den nächsten Jahren einen mittleren einstelligen Milliardenbetrag in Europa und China in die Hand nehmen, wie es mitteilte. Ein Arbeitnehmervertreter sprach von Sicherheit für die betroffenen Mitarbeiter bis ins nächste Jahrzehnt.', 'Konkret soll am bisher auf Verbrennermotoren spezialisierten Werk in Kölleda in Thüringen eine Batteriemontage entstehen. Entsprechende Gespräche mit der Landesregierung dazu seien auf einem guten Weg, eine finale Entscheidung sei in wenigen Wochen zu erwarten, sagte Mercedes-Logistikchef Jörg Burzer. An dem Standort mit 1300 Mitarbeitern sollen Burzer zufolge grob ab 2026 oder 2027 erste Anlagen anlaufen. Neben Batterien sollen dort auch weiter Verbrenner gebaut werden.', 'Außerdem soll im sächsischen Kamenz und in Brühl am Standort Untertürkheim (insgesamt 16000 Mitarbeiter) ab 2024 der Hochlauf für Batterien für neue vollelektrische E-Modelle starten. In Peking in China ist das ab 2025 geplant. An allen drei Standorten werden aktuell schon Batterien gefertigt.', 'Fertigung und Montage der Achsen für die künftigen Mercedes-Stromer sollen den Plänen zufolge weiter in Hamburg und in Untertürkheim/Mettingen stattfinden. Außerdem soll in Peking, Untertürkheim und im rumänischen Sebes ab 2024 der Hochlauf für elektrische Antriebseinheiten beginnen. Im Mercedes-Benz-Werk in Berlin sollen ab Mitte des Jahrzehnts besonders leistungsstarke Elektromotoren gebaut werden. Die Pläne waren bereits bekannt gewesen.  dpa']  "
      ]
     },
     "execution_count": 5,
     "metadata": {},
     "output_type": "execute_result"
    }
   ],
   "source": [
    "df.head()"
   ]
  },
  {
   "cell_type": "code",
   "execution_count": 7,
   "metadata": {},
   "outputs": [],
   "source": [
    "comb1 = ['häuslich gewalt', # look for start of these words instead of exact matches, i.e. startswith\n",
    "        'partnerschaftsgewalt',\n",
    "        'partnergewalt',\n",
    "        'femizid',\n",
    "        'beziehungstat',\n",
    "        'liebesdrama',\n",
    "        'ehedrama',\n",
    "        'liebestragödie',\n",
    "        'ehelich gewalt',\n",
    "        'ehekrieg',\n",
    "        'innerfamiliär gewalt',\n",
    "        'innerhäuslich gewalt',\n",
    "        'gewalt und \\sehe',\n",
    "        'ehe und hölle'\n",
    "        'gewalt und (freund(in)?|partner(in)?|mann|frau)\\s',\n",
    "        'vergewaltigen und (freund(in)?|partner(in)?|mann|frau)\\s',\n",
    "        'vergewaltigung und (freund(in)?|partner(in)?|mann|frau)\\s',\n",
    "        'missbrauch und (freund(in)?|partner(in)?|mann|frau)\\s',\n",
    "        'missbräuchlich und (freund(in)?|partner(in)?|mann|frau)\\s',\n",
    "        'gewalttätig und (freund(in)?|partner(in)?|mann|frau)\\s',\n",
    "        'verletzung und (freund(in)?|partner(in)?|mann|frau)\\s',\n",
    "        'verletzen und (freund(in)?|partner(in)?|mann|frau)\\s',\n",
    "        'übergriffig und (freund(in)?|partner(in)?|mann|frau)\\s',\n",
    "        'drohung und (freund(in)?|partner(in)?|mann|frau)\\s',\n",
    "        'drohen und (freund(in)?|partner(in)?|mann|frau)\\s',\n",
    "        'manipulation und (freund(in)?|partner(in)?|mann|frau)\\s',\n",
    "        'manipulieren und (freund(in)?|partner(in)?|mann|frau)\\s',\n",
    "        'beleidigen und (freund(in)?|partner(in)?|mann|frau)\\s',\n",
    "        'beleidigung und (freund(in)?|partner(in)?|mann|frau)\\s',\n",
    "        'gaslighting und (freund(in)?|partner(in)?|mann|frau)\\s',\n",
    "        'schlagen und (freund(in)?|partner(in)?|mann|frau)\\s',\n",
    "        'zwingen und (freund(in)?|partner(in)?|mann|frau)\\s', \n",
    "        'gezwungen und (freund(in)?|partner(in)?|mann|frau)\\s',\n",
    "        'zwang und (freund(in)?|partner(in)?|mann|frau)\\s',\n",
    "        'einsperren und (freund(in)?|partner(in)?|mann|frau)\\s',\n",
    "        'stalking und (freund(in)?|partner(in)?|mann|frau)\\s',\n",
    "        'stalken und (freund(in)?|partner(in)?|mann|frau)\\s',\n",
    "        'kontrollieren und (freund(in)?|partner(in)?|mann|frau)\\s',\n",
    "        'kontrolle und (freund(in)?|partner(in)?|mann|frau)\\s',\n",
    "        'isolieren und (freund(in)?|partner(in)?|mann|frau)\\s',\n",
    "        'isolation und (freund(in)?|partner(in)?|mann|frau)\\s',\n",
    "        'hauen und (freund(in)?|partner(in)?|mann|frau)\\s',\n",
    "        'ohrfeige und (freund(in)?|partner(in)?|mann|frau)\\s'\n",
    "\n",
    "        ]\n"
   ]
  },
  {
   "cell_type": "code",
   "execution_count": 8,
   "metadata": {},
   "outputs": [],
   "source": [
    "# start with broad single terms such as häuslich \n",
    "# then filter further , i.e. layers of filters\n",
    "# consider building a dictionary for filtering, seeding words and finding synonyms\n",
    "\n",
    "def filter_strings(text, combination_list):\n",
    "    combinations = combination_list\n",
    "    for comb in combinations:\n",
    "        if all(word in text for word in comb.split(\" und \")):\n",
    "            return True\n",
    "    return False\n",
    "\n"
   ]
  },
  {
   "cell_type": "code",
   "execution_count": 15,
   "metadata": {},
   "outputs": [],
   "source": [
    "comb2 = [\n",
    "    'häusliche'\n",
    "]"
   ]
  },
  {
   "cell_type": "code",
   "execution_count": 16,
   "metadata": {},
   "outputs": [],
   "source": [
    "# apply the filter function to the \"text\" column\n",
    "filtered_df = df[df[\"text\"].apply(filter_strings, combination_list = comb2)]"
   ]
  },
  {
   "cell_type": "code",
   "execution_count": 17,
   "metadata": {},
   "outputs": [
    {
     "name": "stdout",
     "output_type": "stream",
     "text": [
      "      Unnamed: 0    article_id newspaper_id             newspaper  year  \\\n",
      "325          325  23-156035609          WKR  Wittlager Kreisblatt  2022   \n",
      "752          752  23-156207228          WKR  Wittlager Kreisblatt  2022   \n",
      "1072        1072  23-156320819          WKR  Wittlager Kreisblatt  2022   \n",
      "\n",
      "            date  page_start        ressort dachzeile  \\\n",
      "325   17.12.2022          19        lokales       NaN   \n",
      "752   22.12.2022          22  gut zu wissen       NaN   \n",
      "1072  27.12.2022          24  gut zu wissen      3000   \n",
      "\n",
      "                                                       title  \\\n",
      "325                              In 24 Jahren viel verändert   \n",
      "752         So werden Pflegekosten von  der Steuer abgesetzt   \n",
      "1072  Fälle häuslicher Gewalt im ausgehenden Jahr registiert   \n",
      "\n",
      "                                                                                                   subtitle  \\\n",
      "325   Anke Hamker ist die neue Bad Essener Gleichstellungsbeauftragte / Vorgängerin Ann Bruns verabschiedet   \n",
      "752                                                              Fünf Tipps, die das Portemonnaie entlasten   \n",
      "1072                                                                                                    NaN   \n",
      "\n",
      "                                                                                                                                                                                                                                                                                                                                                                                                                                                                                                                                                                                                                                                                                                                                                                                                                                                                                                                                                                                                                                                                                                                                                                                                                                                                                                                                                                                                                                                                                                                                                                                                                                                                                                                                                                                                                                                                                                                                                                                                                                                                                                                                                                                                                                                                                                                                                                                                                                                                                                                                                                                                                                                                                                                                                                                                                                                                                                                                                                                                                                                                                                                                                                                                                                                                                                                                                                                                                                                                                                                                                                                                                                                                                                                                                                                                                                                                                                                     text  \n",
      "325   ['Karin Kemper', 'Die neue Gleichstellungsbeauftragte der Gemeinde Bad Essen heißt Anke Hamker. Sie tritt die Nachfolge von Ann Bruns an, die das Ehrenamt 24 Jahre ausgeübt hatte. Die Berufung erfolgte am Donnerstag in der Sitzung des Gemeinderates, die Amtsübergabe einen Tag später im Rathaus.', 'Bürgermeister Timo Natemeyer meinte im Rathaus: \"In der Sitzung gestern gab es einen ganz seltenen Tagesordnungspunkt. Zuletzt hat er Ende 1998 zur Beratung angestanden. Nämlich die Berufung einer Gleichstellungsbeauftragten - vor 24 Jahren hieß sie noch Frauenbeauftragte.\"', 'Den Verzicht auf das Amt kommentierte Natemeyer so: \"Es ist schade. Aber wir verstehen und respektieren die Entscheidung.\" Schon im Rat habe er Danke gesagt und betont, dass die Zusammenarbeit in den 24 Jahren immer angenehm gewesen sei. Vieles habe sich in der Zeit komplett geändert, beispielsweise die Kinderbetreuung.', '<genios:style type=\"strong\">Amtswechsel: Zur Verabschiedung gehörte die Benennung und Berufung von Anke Hamker aus Lintorf als Nachfolgerin. Natemeyer: \"Ich habe mich gefreut, dass die ehrenamtliche Stelle sofort wieder besetzt werden konnte. Das ist nicht selbstverständlich.\" Außerdem sei Anke Hamker eine Person, die viel Erfahrung aus ihrer Tätigkeit bei der Polizei mitbringe, wo sie in der Prävention tätig und auch mit häuslicher Gewalt konfrontiert sei.', 'Ratsvorsitzende Anette Gottlieb meinte in Richtung Ann Bruns: \"Du hast wahnsinnig viel getan, gemacht und angeboten und warst immer präsent.\" Sie erinnerte daran, dass sie ihr selbst geholfen hatte, als sie für ihr erstes Kind einen Krippenplatz brauchte und die Warteliste lang war. Der Tipp lautete: \"Frag doch mal bei ...\" Das klappte. In Richtung der Nachfolgerin hieß es: \"Ich freue mich, dass du, liebe Anke, das weitermachst. Du bist genau die Richtige.\"', 'Die Komplimente gab Ann Bruns zurück: \"Wenn es nicht so toll gelaufen wäre, hätte ich das nicht so lange gemacht.\" Einen Kritikpunkt gab es dann aber doch: \"Schön wäre es, wenn die Tätigkeit als Gleichstellungsbeauftragte auch etwas für die Rente bringen würde.\"', '<genios:style type=\"strong\">Rückschau: In der kleinen Runde, zu der auch Erster Gemeinderat Carsten Meyer und Monika Kuhlmann vom Personalrat gehörten, wurde daran erinnert, dass sich speziell die Kinderbetreuung grundlegend verändert habe. Als mit der Randstundenbetreuung der Kindergartenkinder begonnen wurde, gab es einigen Widerstand. Wer sich nicht selbst um seine Kinder kümmerte, galt als Rabenmutter. Meyer: \"Heute geht das fast schon in die andere Richtung.\"', '<genios:style type=\"strong\">Veränderungen: Anke Hamker betonte, dass Gleichstellung nicht nur Kinderbetreuung sei: \"Zwischen 30 und 40 Jahren machen Männer Karriere, Frauen bekommen Kinder. Wer nach der Kinderzeit durchstarten will, muss doppelt Gas geben.\" Ann Bruns: \"Heute haben beide Partner einen ordentlichen Job. Und die Frau gibt die Qualifikation nicht im Krankenhaus ab und nimmt dafür ein Kind mit nach Hause.\" Allerdings machten es bislang viele Arbeitgeber nicht mit, Führungspositionen zu teilen.', '<genios:style type=\"strong\">Vakanz: Bislang noch nicht besetzt ist die Leitung der Freiwilligenagentur Bad Essen, die Ann Bruns ebenfalls innegehabt hatte. Dabei handelt es sich um einen Minijob. Natemeyer: \"Die Stelle wollen wir gern behalten. Sie wird ausgeschrieben.\"', '<genios:style type=\"strong\">Perspektive: Die neue Gleichstellungsbeauftragte Hamker sagt: \"Ich sehe das Amt als Herausforderung an. Die Tätigkeit ist spannend, ich habe Lust darauf.\" Sie ergänzte: \"Und Ideen habe ich auch.\" Überraschungen für die Neue gibt es ebenfalls. Sie ist eingeladen, an der Haushaltsklausurtagung des Bad Essener Rates teilzunehmen. Bruns: \"Hat man dir das auch nicht gesagt...?\"']  \n",
      "752                                                                                                                                                           ['Michael Schreiber', 'Früher oder später geht das Thema Pflege uns alle an. Aktuell benötigen über vier Millionen Menschen in Deutschland in ihrem Alltag fremde Hilfe. Dabei werden die meisten pflegebedürftigen Menschen zu Hause allein durch ihre Angehörigen oder auch mithilfe von ambulanten Pflegediensten versorgt. Das kostet die betroffenen Familien enorm viel Kraft, Zeit und vor allem immer mehr Geld.', 'Die Anhebung der Mindestlöhne für Pflegepersonal und die stark angestiegenen Energiekosten lassen die Kosten für ambulante Pflegedienstleister und Heimpflegesätze gerade durch die Decke schießen - Angehörige werden mit happigen Kostensteigerungen von bis zu 20 Prozent konfrontiert. In dieser Situation müssen Pflegebedürftige und ihre Familienangehörigen jede nur denkbare Finanzierungsmöglichkeit nutzen, um die unvermeidbaren Kosten schultern zu können. Über die Steuererklärung ist dabei vieles möglich.', 'Pflegebedürftige und ihre Angehörigen können über die Einkommensteuererklärung zahlreiche Steuersparmöglichkeiten beantragen, um die Pflege- und Krankheitskosten zumindest teilweise vom Finanzamt tragen zu lassen. Welche Pflegekosten kann man steuerlich absetzen? Hier ein Überblick.', '<genios:style type=\"strong\">Außergewöhnliche Belastungen: Steuerzahler können die Ausgaben für Zahnersatz, Zuzahlungen zu rezeptpflichtigen Medikamenten oder medizinischen Hilfsmitteln wie Hörgeräten, Gehhilfen, Rollstühlen, Prothesen, Brillen und Co. als außergewöhnliche Belastungen geltend machen, sofern die Kranken- oder Pflegekasse nicht einspringt. Einen Eigenanteil müssen Steuerzahler aber in jedem Fall alleine schultern. Tipp: Wer die Ausgaben in einem Jahr bündelt, nimmt die Selbstkostenhürde einfacher und wird mit Steuervorteilen belohnt.', '<genios:style type=\"strong\">Pflegekosten: Auch selbst getragene Aufwendungen für die eigene häusliche Pflege oder die Unterbringung in einem Senioren- oder Pflegeheim kann man steuerlich dem Fiskus in Rechnung stellen. Die Heimunterbringung muss wegen einer Pflegebedürftigkeit, einer Behinderung oder Krankheit notwendig sein, Altersgründe allein reichen nicht.', '<genios:style type=\"strong\">Pauschbetrag je nach Grad der Behinderung: Steuerzahler mit Handicap erhalten je nach Grad ihrer Behinderung (GdB) vom Finanzamt einen zusätzlichen Pauschbetrag von bis zu 7400 Euro. Tipp: Wer noch bis Jahresende für sich oder seine Angehörigen einen Antrag beim Versorgungsamt stellt, sichert sich damit rückwirkend den kompletten Steuervorteil für 2022 - auch wenn der Bescheid vom Amt erst im Jahr 2023 im Briefkasten liegt.', '<genios:style type=\"strong\">Pflegepauschbetrag: Wer zu Hause einen Angehörigen pflegt, kann einen Pflegepauschbetrag von bis zu 1800 Euro steuerlich geltend machen. Dazu muss die Pflege unentgeltlich erfolgen. Den Freibetrag erhält man auch bei kurzzeitiger Pflege oder wenn man nur am Wochenende einspringt.', 'Tipp: Pflegt man beide Elternteile, wird der Pauschbetrag doppelt gewährt. Sofern sich mehrere Angehörige die Pflegearbeit teilen, wird der Pflegepauschbetrag insgesamt nur einmal gewährt und nach Köpfen aufgeteilt.', '<genios:style type=\"strong\">Haushaltsnahe Dienste: Der Steuerbonus für haushaltsnahe Dienste und Handwerkerleistungen ist auch für Senioren bares Geld wert. So können die Arbeits- und Fahrtkosten des beauftragten Handwerkers für die Renovierung der vier Wände ebenso steuerlich geltend gemacht werden wie der Lohn für eine Pflegekraft, einen Pflegedienst oder sogar für einen Fensterputzer oder Gärtner. Dafür lässt das Finanzamt maximal bis zu 4000 Euro Steuerrabatt jährlich springen.']  \n",
      "1072                                                                                                                                                                                                                                                                                                                                                                                                                                                                                                                                                                                                                                                                                                                                                                                                                                                                                                                                                                                                                                                                                                                                                                                                                                                                                                                                                                                                                                                                                                                                                                                                                                                                                                                                                                                                                                                                                                                                                                                                                                                                                                                                                                                                                                                                                                                                                                                                                                                                                                                                                                                                                                                                                                                                                                                                                                                                                                                                                                                                                                                                                                                                                                                                                                                                                                                                                                       ['', 'Die Opferhilfsorganisation Weißer Ring verzeichnet im dritten Jahr der Pandemie weiter \"sehr hohe Zahlen bei Fällen häuslicher Gewalt\". Nach einem Anstieg von 2390 Fällen 2019 auf 2914 Fälle 2020 hat die Organisation für Kriminalitätsopfer im zu Ende gehenden Jahr schon mehr als 3000 Fälle registriert, wie der Bundesvorsitzende der Hilfsorganisation für Kriminalitätsopfer, Patrick Liesching, sagte. In fast einem Fünftel aller Fälle, in denen der Weiße Ring hilft, gehe es um Gewalt in den eigenen vier Wänden.  dpa']  \n"
     ]
    }
   ],
   "source": [
    "# print the filtered dataframe\n",
    "print(filtered_df)"
   ]
  }
 ],
 "metadata": {
  "kernelspec": {
   "display_name": "languagelens-env",
   "language": "python",
   "name": "python3"
  },
  "language_info": {
   "codemirror_mode": {
    "name": "ipython",
    "version": 3
   },
   "file_extension": ".py",
   "mimetype": "text/x-python",
   "name": "python",
   "nbconvert_exporter": "python",
   "pygments_lexer": "ipython3",
   "version": "3.9.6"
  },
  "orig_nbformat": 4,
  "vscode": {
   "interpreter": {
    "hash": "f8793af406fb7c80280f2807d1399300bf70a69dd70bc748365d7f6505a8463d"
   }
  }
 },
 "nbformat": 4,
 "nbformat_minor": 2
}
