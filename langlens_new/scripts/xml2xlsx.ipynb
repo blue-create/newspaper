{
 "cells": [
  {
   "cell_type": "code",
   "execution_count": 174,
   "metadata": {},
   "outputs": [],
   "source": [
    "import os\n",
    "import pandas as pd\n",
    "import pandas_read_xml as pdx\n",
    "import openpyxl\n",
    "\n",
    "# auto-indent: alt + shift + f"
   ]
  },
  {
   "cell_type": "code",
   "execution_count": 3,
   "metadata": {},
   "outputs": [
    {
     "data": {
      "text/plain": [
       "'/Users/nhuquynh/Documents/repos/languagelens'"
      ]
     },
     "execution_count": 3,
     "metadata": {},
     "output_type": "execute_result"
    }
   ],
   "source": [
    "os.chdir('..')\n",
    "os.getcwd() # output should be languagelens, not scripts"
   ]
  },
  {
   "cell_type": "code",
   "execution_count": 4,
   "metadata": {},
   "outputs": [],
   "source": [
    "pd.set_option('display.max_colwidth', None)"
   ]
  },
  {
   "cell_type": "code",
   "execution_count": 17,
   "metadata": {},
   "outputs": [],
   "source": [
    "# Parse xml file\n",
    "df = pdx.read_xml('data/WKR_220001_221643.xml', ['artikel-liste'])"
   ]
  },
  {
   "cell_type": "code",
   "execution_count": 18,
   "metadata": {},
   "outputs": [],
   "source": [
    "# Flatten data\n",
    "df = pdx.flatten(df)"
   ]
  },
  {
   "cell_type": "code",
   "execution_count": 179,
   "metadata": {},
   "outputs": [],
   "source": [
    "# Separate text and meta data\n",
    "df2 = df['artikel'].apply(pd.Series)\n",
    "\n",
    "# Isolate meta data\n",
    "df_meta = df2['metadaten'].apply(pd.Series)\n",
    "meta_2 = df_meta['quelle'].apply(pd.Series)\n",
    "# df_meta['artikel-id']\n",
    "\n",
    "# Isolate text data\n",
    "df_text = df2['inhalt'].apply(pd.Series)\n",
    "df_text_info = df_text['titel-liste'].apply(pd.Series)\n",
    "text = df_text['text'].apply(pd.Series)\n",
    "\n",
    "# Combine into one file\n",
    "meta_2['article_id'] = df_meta['artikel-id']\n",
    "df_merge = meta_2.reset_index(drop=True).join(df_text_info)\n",
    "\n",
    "# Rearrange columns\n",
    "df_final = df_merge[['article_id', 'quelle-id', 'name', 'jahrgang', 'datum',\n",
    "                     'seite-start', 'ressort', 'dachzeile', 'titel', 'untertitel']]\n",
    "\n",
    "df_final.rename(columns={'quelle-id': 'newspaper_id',\n",
    "                         'name': 'newspaper', \n",
    "                         'jahrgang': 'year', \n",
    "                         'seite-start': 'page_start', \n",
    "                         'titel': 'title', \n",
    "                         'untertitel': 'subtitle', \n",
    "                         'datum': 'date'}, inplace=True)\n",
    "\n",
    "# Transform date to datetime format\n",
    "df_final['date'] =  pd.to_datetime(df_final['date'], format='%Y%m%d').dt.strftime('%d.%m.%Y')\n"
   ]
  },
  {
   "cell_type": "code",
   "execution_count": 181,
   "metadata": {},
   "outputs": [],
   "source": [
    "# Remove genios style and None from text column\n",
    "text1 = []\n",
    "for i in text.p:\n",
    "    text1.append(([para.replace('</genios:style>', '').replace('<genios:style type=\"italic\">',\n",
    "          '').replace('<genios:style type=\"bold\">', '').replace('<?agev_?>', '') for para in i if\n",
    "           para is not None and\n",
    "           para != '']))\n",
    "\n",
    "# Add text column to final dataset\n",
    "df_final['text'] = text1"
   ]
  },
  {
   "cell_type": "code",
   "execution_count": 182,
   "metadata": {},
   "outputs": [],
   "source": [
    "# Save as excel\n",
    "df_final.to_excel(\"output/format_example.xlsx\")  "
   ]
  }
 ],
 "metadata": {
  "kernelspec": {
   "display_name": "languagelens-env",
   "language": "python",
   "name": "python3"
  },
  "language_info": {
   "codemirror_mode": {
    "name": "ipython",
    "version": 3
   },
   "file_extension": ".py",
   "mimetype": "text/x-python",
   "name": "python",
   "nbconvert_exporter": "python",
   "pygments_lexer": "ipython3",
   "version": "3.9.6 (default, Oct 18 2022, 12:41:40) \n[Clang 14.0.0 (clang-1400.0.29.202)]"
  },
  "orig_nbformat": 4,
  "vscode": {
   "interpreter": {
    "hash": "f8793af406fb7c80280f2807d1399300bf70a69dd70bc748365d7f6505a8463d"
   }
  }
 },
 "nbformat": 4,
 "nbformat_minor": 2
}
